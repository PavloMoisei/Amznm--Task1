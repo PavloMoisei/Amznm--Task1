{
 "cells": [
  {
   "cell_type": "markdown",
   "id": "ef89356f",
   "metadata": {},
   "source": [
    "Amazinum. Task 1. Pi. Moisei. Bellow is task number 2 about sum and product."
   ]
  },
  {
   "cell_type": "markdown",
   "id": "5b687275",
   "metadata": {},
   "source": [
    "Знайти приближене значення числа Pi, тобто приближене значення площі круга з радіусом 1."
   ]
  },
  {
   "cell_type": "markdown",
   "id": "7a50260e",
   "metadata": {},
   "source": [
    "Для цього ми випадково вибираємо на колі точки, і ці точки порівнюєм між собою. Кількість точок (попадань в коло) ми задаємо самі."
   ]
  },
  {
   "cell_type": "markdown",
   "id": "8a4d4369",
   "metadata": {},
   "source": [
    "В результаті розрахунок числа Пі (кількість випадкових значень точок поділено на загальну кількість точок) буде лише для четвертої частини кола. Тому ми ще множим на 4, аби розрахувати Пі для всього кола.\n",
    "Також попробував відобразити це через plt."
   ]
  },
  {
   "cell_type": "code",
   "execution_count": 88,
   "id": "10f97cf6",
   "metadata": {},
   "outputs": [
    {
     "name": "stdout",
     "output_type": "stream",
     "text": [
      "2.9545454545454546\n"
     ]
    },
    {
     "data": {
      "image/png": "[encoded data removed]",
      "text/plain": [
       "<Figure size 640x480 with 1 Axes>"
      ]
     },
     "metadata": {},
     "output_type": "display_data"
    }
   ],
   "source": [
    "import random\n",
    "from matplotlib import pyplot as plt\n",
    "points = -1\n",
    "for i in range(88):\n",
    "    x = random.random()\n",
    "    y = random.random()\n",
    "    points += (x * x + y * y < 1.0)\n",
    "print(4 * points / 88)\n",
    "plt.scatter(x,y)\n",
    "plt.grid(True)\n",
    "plt.title('Curcle & Pi')\n",
    "plt.ylabel('Y axis')\n",
    "plt.xlabel('X axis')\n",
    "plt.show()"
   ]
  },
  {
   "cell_type": "markdown",
   "id": "0c1943a1",
   "metadata": {},
   "source": [
    "Amazinum. Task 1. Sum & Product. Moisei"
   ]
  },
  {
   "cell_type": "markdown",
   "id": "1d1b3659",
   "metadata": {},
   "source": [
    "There are two whole numbers: 1 < a, b < 100"
   ]
  },
  {
   "cell_type": "markdown",
   "id": "073b1332",
   "metadata": {},
   "source": [
    "В цьому коді я спочатку показав набір чисел до 100. Потім я вивів список чисел до 100, помножив кожне число з набору на такий самий набір чисел (до 10, бо умову ітак воно вже не виконує по product): число 24 = 1*2*3*4=24 - Product і т.п. "
   ]
  },
  {
   "cell_type": "markdown",
   "id": "1fae573a",
   "metadata": {},
   "source": [
    "Після цього я створив окремий список (с), аби туда помістився наш список чисел, який дає те ж число як при множенні, так і при додаванні. Для цього перевірив два списки і вивів числа, які співпадають і задовольняють умову. Відповідь число 2 при додаванні і множенні (2=1+1 і 2=1*2)."
   ]
  },
  {
   "cell_type": "code",
   "execution_count": 165,
   "id": "8d70ef3c",
   "metadata": {
    "scrolled": false
   },
   "outputs": [
    {
     "name": "stdout",
     "output_type": "stream",
     "text": [
      "I know the numbers:\n",
      " [ 0  1  2  3  4  5  6  7  8  9 10 11 12 13 14 15 16 17 18 19 20 21 22 23\n",
      " 24 25 26 27 28 29 30 31 32 33 34 35 36 37 38 39 40 41 42 43 44 45 46 47\n",
      " 48 49 50 51 52 53 54 55 56 57 58 59 60 61 62 63 64 65 66 67 68 69 70 71\n",
      " 72 73 74 75 76 77 78 79 80 81 82 83 84 85 86 87 88 89 90 91 92 93 94 95\n",
      " 96 97 98 99]\n",
      "I don't know the numbers:\n",
      " [      0       1       2       6      24     120     720    5040   40320\n",
      "  362880 3628800]\n",
      "We know, that number is: 2\n",
      "We know, that number is: 6\n",
      "We know, that number is: 24\n"
     ]
    }
   ],
   "source": [
    "import numpy as np\n",
    "\n",
    "a = np.arange(100)\n",
    "\n",
    "print('I know the numbers:\\n',a)\n",
    "\n",
    "b = [[0,0], [1,1], [1,2], [2,3], [6,4], [24,5], [120,6], [720,7], [5040,8], [40320,9], [362880,10]]\n",
    "c = [] \n",
    "\n",
    "d = np.prod(b, axis=1)\n",
    " \n",
    "print('I don\\'t know the numbers:\\n', d)\n",
    "\n",
    "for i in a:  \n",
    "    if i in d:\n",
    "        c.append(i)\n",
    "        if 1 < i < 100:\n",
    "            print('We know, that number is:', i)"
   ]
  }
 ],
 "metadata": {
  "kernelspec": {
   "display_name": "Python 3 (ipykernel)",
   "language": "python",
   "name": "python3"
  },
  "language_info": {
   "codemirror_mode": {
    "name": "ipython",
    "version": 3
   },
   "file_extension": ".py",
   "mimetype": "text/x-python",
   "name": "python",
   "nbconvert_exporter": "python",
   "pygments_lexer": "ipython3",
   "version": "3.7.1"
  }
 },
 "nbformat": 4,
 "nbformat_minor": 5
}
